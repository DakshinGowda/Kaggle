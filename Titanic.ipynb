{
 "cells": [
  {
   "cell_type": "code",
   "execution_count": 1,
   "id": "6d6824a4",
   "metadata": {},
   "outputs": [],
   "source": [
    "import numpy as np\n",
    "import pandas as pd\n",
    "import matplotlib.pyplot as plt\n",
    "import seaborn as sns\n",
    "from sklearn.model_selection import train_test_split\n",
    "from sklearn.model_selection import GridSearchCV\n",
    "from sklearn.pipeline import Pipeline\n",
    "from sklearn.compose import ColumnTransformer\n",
    "from sklearn.preprocessing import OneHotEncoder\n",
    "from sklearn.preprocessing import StandardScaler\n",
    "from sklearn.preprocessing import PowerTransformer\n",
    "from sklearn.metrics import accuracy_score\n",
    "from sklearn.metrics import classification_report\n",
    "from sklearn.metrics import confusion_matrix\n",
    "from sklearn.linear_model import LogisticRegression\n",
    "from sklearn.ensemble import RandomForestClassifier\n",
    "from sklearn import svm"
   ]
  },
  {
   "cell_type": "code",
   "execution_count": 2,
   "id": "f53e73cb",
   "metadata": {},
   "outputs": [],
   "source": [
    "import warnings\n",
    "warnings.filterwarnings('ignore')"
   ]
  },
  {
   "cell_type": "code",
   "execution_count": 3,
   "id": "e496c60a",
   "metadata": {},
   "outputs": [],
   "source": [
    "pd.set_option('display.max_rows', 100)\n",
    "pd.set_option('display.max_columns',100)"
   ]
  },
  {
   "cell_type": "code",
   "execution_count": 4,
   "id": "05c390ce",
   "metadata": {},
   "outputs": [],
   "source": [
    "'''Import data'''\n",
    "train = pd.read_csv('train.csv')\n",
    "test = pd.read_csv('test.csv')\n",
    "submit = pd.read_csv('gender_submission.csv')"
   ]
  },
  {
   "cell_type": "code",
   "execution_count": 5,
   "id": "2896a02e",
   "metadata": {},
   "outputs": [
    {
     "data": {
      "text/plain": [
       "((891, 12), (418, 11))"
      ]
     },
     "execution_count": 5,
     "metadata": {},
     "output_type": "execute_result"
    }
   ],
   "source": [
    "train.shape, test.shape"
   ]
  },
  {
   "cell_type": "code",
   "execution_count": 6,
   "id": "13cd2a5a",
   "metadata": {},
   "outputs": [
    {
     "data": {
      "text/html": [
       "<div>\n",
       "<style scoped>\n",
       "    .dataframe tbody tr th:only-of-type {\n",
       "        vertical-align: middle;\n",
       "    }\n",
       "\n",
       "    .dataframe tbody tr th {\n",
       "        vertical-align: top;\n",
       "    }\n",
       "\n",
       "    .dataframe thead th {\n",
       "        text-align: right;\n",
       "    }\n",
       "</style>\n",
       "<table border=\"1\" class=\"dataframe\">\n",
       "  <thead>\n",
       "    <tr style=\"text-align: right;\">\n",
       "      <th></th>\n",
       "      <th>PassengerId</th>\n",
       "      <th>Survived</th>\n",
       "      <th>Pclass</th>\n",
       "      <th>Name</th>\n",
       "      <th>Sex</th>\n",
       "      <th>Age</th>\n",
       "      <th>SibSp</th>\n",
       "      <th>Parch</th>\n",
       "      <th>Ticket</th>\n",
       "      <th>Fare</th>\n",
       "      <th>Cabin</th>\n",
       "      <th>Embarked</th>\n",
       "    </tr>\n",
       "  </thead>\n",
       "  <tbody>\n",
       "    <tr>\n",
       "      <th>0</th>\n",
       "      <td>1</td>\n",
       "      <td>0</td>\n",
       "      <td>3</td>\n",
       "      <td>Braund, Mr. Owen Harris</td>\n",
       "      <td>male</td>\n",
       "      <td>22.0</td>\n",
       "      <td>1</td>\n",
       "      <td>0</td>\n",
       "      <td>A/5 21171</td>\n",
       "      <td>7.2500</td>\n",
       "      <td>NaN</td>\n",
       "      <td>S</td>\n",
       "    </tr>\n",
       "    <tr>\n",
       "      <th>1</th>\n",
       "      <td>2</td>\n",
       "      <td>1</td>\n",
       "      <td>1</td>\n",
       "      <td>Cumings, Mrs. John Bradley (Florence Briggs Th...</td>\n",
       "      <td>female</td>\n",
       "      <td>38.0</td>\n",
       "      <td>1</td>\n",
       "      <td>0</td>\n",
       "      <td>PC 17599</td>\n",
       "      <td>71.2833</td>\n",
       "      <td>C85</td>\n",
       "      <td>C</td>\n",
       "    </tr>\n",
       "  </tbody>\n",
       "</table>\n",
       "</div>"
      ],
      "text/plain": [
       "   PassengerId  Survived  Pclass  \\\n",
       "0            1         0       3   \n",
       "1            2         1       1   \n",
       "\n",
       "                                                Name     Sex   Age  SibSp  \\\n",
       "0                            Braund, Mr. Owen Harris    male  22.0      1   \n",
       "1  Cumings, Mrs. John Bradley (Florence Briggs Th...  female  38.0      1   \n",
       "\n",
       "   Parch     Ticket     Fare Cabin Embarked  \n",
       "0      0  A/5 21171   7.2500   NaN        S  \n",
       "1      0   PC 17599  71.2833   C85        C  "
      ]
     },
     "execution_count": 6,
     "metadata": {},
     "output_type": "execute_result"
    }
   ],
   "source": [
    "train.head(2)"
   ]
  },
  {
   "cell_type": "code",
   "execution_count": 7,
   "id": "25749edc",
   "metadata": {},
   "outputs": [
    {
     "data": {
      "text/html": [
       "<div>\n",
       "<style scoped>\n",
       "    .dataframe tbody tr th:only-of-type {\n",
       "        vertical-align: middle;\n",
       "    }\n",
       "\n",
       "    .dataframe tbody tr th {\n",
       "        vertical-align: top;\n",
       "    }\n",
       "\n",
       "    .dataframe thead th {\n",
       "        text-align: right;\n",
       "    }\n",
       "</style>\n",
       "<table border=\"1\" class=\"dataframe\">\n",
       "  <thead>\n",
       "    <tr style=\"text-align: right;\">\n",
       "      <th></th>\n",
       "      <th>PassengerId</th>\n",
       "      <th>Pclass</th>\n",
       "      <th>Name</th>\n",
       "      <th>Sex</th>\n",
       "      <th>Age</th>\n",
       "      <th>SibSp</th>\n",
       "      <th>Parch</th>\n",
       "      <th>Ticket</th>\n",
       "      <th>Fare</th>\n",
       "      <th>Cabin</th>\n",
       "      <th>Embarked</th>\n",
       "    </tr>\n",
       "  </thead>\n",
       "  <tbody>\n",
       "    <tr>\n",
       "      <th>0</th>\n",
       "      <td>892</td>\n",
       "      <td>3</td>\n",
       "      <td>Kelly, Mr. James</td>\n",
       "      <td>male</td>\n",
       "      <td>34.5</td>\n",
       "      <td>0</td>\n",
       "      <td>0</td>\n",
       "      <td>330911</td>\n",
       "      <td>7.8292</td>\n",
       "      <td>NaN</td>\n",
       "      <td>Q</td>\n",
       "    </tr>\n",
       "    <tr>\n",
       "      <th>1</th>\n",
       "      <td>893</td>\n",
       "      <td>3</td>\n",
       "      <td>Wilkes, Mrs. James (Ellen Needs)</td>\n",
       "      <td>female</td>\n",
       "      <td>47.0</td>\n",
       "      <td>1</td>\n",
       "      <td>0</td>\n",
       "      <td>363272</td>\n",
       "      <td>7.0000</td>\n",
       "      <td>NaN</td>\n",
       "      <td>S</td>\n",
       "    </tr>\n",
       "  </tbody>\n",
       "</table>\n",
       "</div>"
      ],
      "text/plain": [
       "   PassengerId  Pclass                              Name     Sex   Age  SibSp  \\\n",
       "0          892       3                  Kelly, Mr. James    male  34.5      0   \n",
       "1          893       3  Wilkes, Mrs. James (Ellen Needs)  female  47.0      1   \n",
       "\n",
       "   Parch  Ticket    Fare Cabin Embarked  \n",
       "0      0  330911  7.8292   NaN        Q  \n",
       "1      0  363272  7.0000   NaN        S  "
      ]
     },
     "execution_count": 7,
     "metadata": {},
     "output_type": "execute_result"
    }
   ],
   "source": [
    "test.head(2)"
   ]
  },
  {
   "cell_type": "code",
   "execution_count": 8,
   "id": "80982b7c",
   "metadata": {},
   "outputs": [
    {
     "data": {
      "text/plain": [
       "((891, 12), (418, 11))"
      ]
     },
     "execution_count": 8,
     "metadata": {},
     "output_type": "execute_result"
    }
   ],
   "source": [
    "train.shape, test.shape"
   ]
  },
  {
   "cell_type": "markdown",
   "id": "5c953484",
   "metadata": {},
   "source": [
    "### Pre-Processing"
   ]
  },
  {
   "cell_type": "code",
   "execution_count": 9,
   "id": "86dc74ce",
   "metadata": {},
   "outputs": [
    {
     "data": {
      "text/plain": [
       "(1309, 12)"
      ]
     },
     "execution_count": 9,
     "metadata": {},
     "output_type": "execute_result"
    }
   ],
   "source": [
    "data = pd.concat([train, test], axis=0)\n",
    "data.shape"
   ]
  },
  {
   "cell_type": "code",
   "execution_count": 10,
   "id": "23086b46",
   "metadata": {},
   "outputs": [],
   "source": [
    "data['Ticket_type'] = data['Ticket'].apply(lambda x: x[0:3])\n",
    "data['Ticket_type'] = data['Ticket_type'].astype('category')\n",
    "data['Ticket_type'] = data['Ticket_type'].cat.codes"
   ]
  },
  {
   "cell_type": "code",
   "execution_count": 11,
   "id": "f71396de",
   "metadata": {},
   "outputs": [],
   "source": [
    "data['Name_Words'] = data['Name'].apply(lambda x: len(x.split()))"
   ]
  },
  {
   "cell_type": "code",
   "execution_count": 12,
   "id": "dbdb8a31",
   "metadata": {},
   "outputs": [],
   "source": [
    "data['Cabin'] = data['Cabin'].apply(lambda x: '1' if type(x) == float else '0')"
   ]
  },
  {
   "cell_type": "code",
   "execution_count": 13,
   "id": "dcc9f061",
   "metadata": {},
   "outputs": [],
   "source": [
    "data['Cnt_family'] = data['SibSp'] + data['Parch']+1\n",
    "data['Single'] = data['Cnt_family'].apply(lambda x: '1' if x==1 else '0')"
   ]
  },
  {
   "cell_type": "code",
   "execution_count": 14,
   "id": "65e0f6fe",
   "metadata": {},
   "outputs": [],
   "source": [
    "data['Title'] = data['Name'].apply(lambda x: x.split(',')[1].split('.')[0].strip())\n",
    "#Replace the column name\n",
    "data['Title'] = data['Title'].replace(['Dr', 'Rev', 'Col', 'Major', 'Don', 'Sir', 'Dona',\n",
    "                                       'Countess', 'Capt', 'Jonkheer', 'Lady', 'the Countess'], value = 'Other')\n",
    "data['Title'] = data['Title'].replace(['Ms','Mlle'], value = 'Miss')\n",
    "data['Title'] = data['Title'].replace(['Mme'], value = 'Mrs')"
   ]
  },
  {
   "cell_type": "code",
   "execution_count": 15,
   "id": "2f829f03",
   "metadata": {},
   "outputs": [],
   "source": [
    "data['Sex'] = data['Sex'].map({'male' : '1', 'female' : '0'})"
   ]
  },
  {
   "cell_type": "code",
   "execution_count": 16,
   "id": "9b6be3f3",
   "metadata": {},
   "outputs": [],
   "source": [
    "#drop the non-required columns\n",
    "data.drop(columns=['Name', 'SibSp', 'Parch', 'Ticket'], inplace=True)"
   ]
  },
  {
   "cell_type": "code",
   "execution_count": 17,
   "id": "87b249a7",
   "metadata": {},
   "outputs": [
    {
     "data": {
      "text/html": [
       "<div>\n",
       "<style scoped>\n",
       "    .dataframe tbody tr th:only-of-type {\n",
       "        vertical-align: middle;\n",
       "    }\n",
       "\n",
       "    .dataframe tbody tr th {\n",
       "        vertical-align: top;\n",
       "    }\n",
       "\n",
       "    .dataframe thead th {\n",
       "        text-align: right;\n",
       "    }\n",
       "</style>\n",
       "<table border=\"1\" class=\"dataframe\">\n",
       "  <thead>\n",
       "    <tr style=\"text-align: right;\">\n",
       "      <th></th>\n",
       "      <th>PassengerId</th>\n",
       "      <th>Survived</th>\n",
       "      <th>Pclass</th>\n",
       "      <th>Sex</th>\n",
       "      <th>Age</th>\n",
       "      <th>Fare</th>\n",
       "      <th>Cabin</th>\n",
       "      <th>Embarked</th>\n",
       "      <th>Ticket_type</th>\n",
       "      <th>Name_Words</th>\n",
       "      <th>Cnt_family</th>\n",
       "      <th>Single</th>\n",
       "      <th>Title</th>\n",
       "    </tr>\n",
       "  </thead>\n",
       "  <tbody>\n",
       "    <tr>\n",
       "      <th>0</th>\n",
       "      <td>1</td>\n",
       "      <td>0.0</td>\n",
       "      <td>3</td>\n",
       "      <td>1</td>\n",
       "      <td>22.0</td>\n",
       "      <td>7.2500</td>\n",
       "      <td>1</td>\n",
       "      <td>S</td>\n",
       "      <td>139</td>\n",
       "      <td>4</td>\n",
       "      <td>2</td>\n",
       "      <td>0</td>\n",
       "      <td>Mr</td>\n",
       "    </tr>\n",
       "    <tr>\n",
       "      <th>1</th>\n",
       "      <td>2</td>\n",
       "      <td>1.0</td>\n",
       "      <td>1</td>\n",
       "      <td>0</td>\n",
       "      <td>38.0</td>\n",
       "      <td>71.2833</td>\n",
       "      <td>0</td>\n",
       "      <td>C</td>\n",
       "      <td>154</td>\n",
       "      <td>7</td>\n",
       "      <td>2</td>\n",
       "      <td>0</td>\n",
       "      <td>Mrs</td>\n",
       "    </tr>\n",
       "  </tbody>\n",
       "</table>\n",
       "</div>"
      ],
      "text/plain": [
       "   PassengerId  Survived  Pclass Sex   Age     Fare Cabin Embarked  \\\n",
       "0            1       0.0       3   1  22.0   7.2500     1        S   \n",
       "1            2       1.0       1   0  38.0  71.2833     0        C   \n",
       "\n",
       "   Ticket_type  Name_Words  Cnt_family Single Title  \n",
       "0          139           4           2      0    Mr  \n",
       "1          154           7           2      0   Mrs  "
      ]
     },
     "execution_count": 17,
     "metadata": {},
     "output_type": "execute_result"
    }
   ],
   "source": [
    "data.head(2)"
   ]
  },
  {
   "cell_type": "markdown",
   "id": "dfc070d7",
   "metadata": {},
   "source": [
    "### Missing value"
   ]
  },
  {
   "cell_type": "code",
   "execution_count": 18,
   "id": "846bd84c",
   "metadata": {
    "scrolled": true
   },
   "outputs": [
    {
     "data": {
      "text/plain": [
       "PassengerId      0\n",
       "Survived       418\n",
       "Pclass           0\n",
       "Sex              0\n",
       "Age            263\n",
       "Fare             1\n",
       "Cabin            0\n",
       "Embarked         2\n",
       "Ticket_type      0\n",
       "Name_Words       0\n",
       "Cnt_family       0\n",
       "Single           0\n",
       "Title            0\n",
       "dtype: int64"
      ]
     },
     "execution_count": 18,
     "metadata": {},
     "output_type": "execute_result"
    }
   ],
   "source": [
    "data.isnull().sum()"
   ]
  },
  {
   "cell_type": "code",
   "execution_count": 19,
   "id": "fb2afc13",
   "metadata": {},
   "outputs": [],
   "source": [
    "'''Impute fare missing value'''\n",
    "data['Fare'].fillna(data['Fare'].median(), inplace=True)"
   ]
  },
  {
   "cell_type": "code",
   "execution_count": 20,
   "id": "1d6ff688",
   "metadata": {},
   "outputs": [],
   "source": [
    "'''Impute Embarked'''\n",
    "data['Embarked'].fillna(data['Embarked'].mode()[0], inplace=True)"
   ]
  },
  {
   "cell_type": "code",
   "execution_count": 21,
   "id": "42dac50d",
   "metadata": {},
   "outputs": [
    {
     "data": {
      "image/png": "[encoded data removed]",
      "text/plain": [
       "<Figure size 576x360 with 1 Axes>"
      ]
     },
     "metadata": {
      "needs_background": "light"
     },
     "output_type": "display_data"
    }
   ],
   "source": [
    "'''Age imputation'''\n",
    "plt.figure(figsize=(8,5))\n",
    "sns.boxplot(x='Pclass', y='Age', data=data)\n",
    "plt.show()"
   ]
  },
  {
   "cell_type": "code",
   "execution_count": 22,
   "id": "d2cb3295",
   "metadata": {},
   "outputs": [],
   "source": [
    "def age_impute(cols):\n",
    "    age=cols[0]\n",
    "    pclass=cols[1]\n",
    "    if pd.isnull(age):\n",
    "        if pclass == 1: return 37\n",
    "        elif pclass == 2: return 29\n",
    "        else: return 24\n",
    "    else: return age\n",
    "\n",
    "data['Age'] = data[['Age', 'Pclass']].apply(age_impute, axis=1)"
   ]
  },
  {
   "cell_type": "code",
   "execution_count": 23,
   "id": "8835e817",
   "metadata": {},
   "outputs": [
    {
     "data": {
      "text/plain": [
       "PassengerId      0\n",
       "Survived       418\n",
       "Pclass           0\n",
       "Sex              0\n",
       "Age              0\n",
       "Fare             0\n",
       "Cabin            0\n",
       "Embarked         0\n",
       "Ticket_type      0\n",
       "Name_Words       0\n",
       "Cnt_family       0\n",
       "Single           0\n",
       "Title            0\n",
       "dtype: int64"
      ]
     },
     "execution_count": 23,
     "metadata": {},
     "output_type": "execute_result"
    }
   ],
   "source": [
    "data.isna().sum()"
   ]
  },
  {
   "cell_type": "code",
   "execution_count": 24,
   "id": "61af4239",
   "metadata": {},
   "outputs": [],
   "source": [
    "#drop the non-required columns\n",
    "train = data[:891]\n",
    "test = data[891:]\n",
    "\n",
    "train.drop(columns=['PassengerId'], inplace=True)\n",
    "test.drop(columns=['Survived'], inplace=True)"
   ]
  },
  {
   "cell_type": "code",
   "execution_count": 25,
   "id": "b25b577d",
   "metadata": {},
   "outputs": [],
   "source": [
    "'''Split the data'''\n",
    "X = train.drop(['Survived'], axis=1)[:891]\n",
    "y = train['Survived'][:891]"
   ]
  },
  {
   "cell_type": "code",
   "execution_count": 26,
   "id": "90065bb7",
   "metadata": {},
   "outputs": [],
   "source": [
    "X_train, X_test, y_train, y_test = train_test_split(X, y, test_size=0.2, stratify=y, random_state=9)"
   ]
  },
  {
   "cell_type": "code",
   "execution_count": 27,
   "id": "9be36485",
   "metadata": {},
   "outputs": [
    {
     "data": {
      "text/plain": [
       "((712, 11), (712,), (179, 11), (179,))"
      ]
     },
     "execution_count": 27,
     "metadata": {},
     "output_type": "execute_result"
    }
   ],
   "source": [
    "X_train.shape, y_train.shape, X_test.shape, y_test.shape"
   ]
  },
  {
   "cell_type": "markdown",
   "id": "25895db3",
   "metadata": {},
   "source": [
    "### Model Building"
   ]
  },
  {
   "cell_type": "code",
   "execution_count": 28,
   "id": "7148e53c",
   "metadata": {},
   "outputs": [],
   "source": [
    "ct = ColumnTransformer(\n",
    "                    transformers=[\n",
    "                        ('scaler', StandardScaler(), ['Age', 'Fare']),\n",
    "                        ('encoder', OneHotEncoder(sparse=False), ['Pclass','Embarked', 'Title'])\n",
    "                    ],\n",
    "                    remainder='drop')"
   ]
  },
  {
   "cell_type": "code",
   "execution_count": 29,
   "id": "a2b4dbcb",
   "metadata": {},
   "outputs": [],
   "source": [
    "# Display Pipeline\n",
    "from sklearn import set_config\n",
    "set_config(display='diagram')"
   ]
  },
  {
   "cell_type": "code",
   "execution_count": 30,
   "id": "5edb43b2",
   "metadata": {},
   "outputs": [
    {
     "data": {
      "text/html": [
       "<style>#sk-73c680ac-03bd-409f-869d-68b537888a8c {color: black;background-color: white;}#sk-73c680ac-03bd-409f-869d-68b537888a8c pre{padding: 0;}#sk-73c680ac-03bd-409f-869d-68b537888a8c div.sk-toggleable {background-color: white;}#sk-73c680ac-03bd-409f-869d-68b537888a8c label.sk-toggleable__label {cursor: pointer;display: block;width: 100%;margin-bottom: 0;padding: 0.2em 0.3em;box-sizing: border-box;text-align: center;}#sk-73c680ac-03bd-409f-869d-68b537888a8c div.sk-toggleable__content {max-height: 0;max-width: 0;overflow: hidden;text-align: left;background-color: #f0f8ff;}#sk-73c680ac-03bd-409f-869d-68b537888a8c div.sk-toggleable__content pre {margin: 0.2em;color: black;border-radius: 0.25em;background-color: #f0f8ff;}#sk-73c680ac-03bd-409f-869d-68b537888a8c input.sk-toggleable__control:checked~div.sk-toggleable__content {max-height: 200px;max-width: 100%;overflow: auto;}#sk-73c680ac-03bd-409f-869d-68b537888a8c div.sk-estimator input.sk-toggleable__control:checked~label.sk-toggleable__label {background-color: #d4ebff;}#sk-73c680ac-03bd-409f-869d-68b537888a8c div.sk-label input.sk-toggleable__control:checked~label.sk-toggleable__label {background-color: #d4ebff;}#sk-73c680ac-03bd-409f-869d-68b537888a8c input.sk-hidden--visually {border: 0;clip: rect(1px 1px 1px 1px);clip: rect(1px, 1px, 1px, 1px);height: 1px;margin: -1px;overflow: hidden;padding: 0;position: absolute;width: 1px;}#sk-73c680ac-03bd-409f-869d-68b537888a8c div.sk-estimator {font-family: monospace;background-color: #f0f8ff;margin: 0.25em 0.25em;border: 1px dotted black;border-radius: 0.25em;box-sizing: border-box;}#sk-73c680ac-03bd-409f-869d-68b537888a8c div.sk-estimator:hover {background-color: #d4ebff;}#sk-73c680ac-03bd-409f-869d-68b537888a8c div.sk-parallel-item::after {content: \"\";width: 100%;border-bottom: 1px solid gray;flex-grow: 1;}#sk-73c680ac-03bd-409f-869d-68b537888a8c div.sk-label:hover label.sk-toggleable__label {background-color: #d4ebff;}#sk-73c680ac-03bd-409f-869d-68b537888a8c div.sk-serial::before {content: \"\";position: absolute;border-left: 1px solid gray;box-sizing: border-box;top: 2em;bottom: 0;left: 50%;}#sk-73c680ac-03bd-409f-869d-68b537888a8c div.sk-serial {display: flex;flex-direction: column;align-items: center;background-color: white;}#sk-73c680ac-03bd-409f-869d-68b537888a8c div.sk-item {z-index: 1;}#sk-73c680ac-03bd-409f-869d-68b537888a8c div.sk-parallel {display: flex;align-items: stretch;justify-content: center;background-color: white;}#sk-73c680ac-03bd-409f-869d-68b537888a8c div.sk-parallel-item {display: flex;flex-direction: column;position: relative;background-color: white;}#sk-73c680ac-03bd-409f-869d-68b537888a8c div.sk-parallel-item:first-child::after {align-self: flex-end;width: 50%;}#sk-73c680ac-03bd-409f-869d-68b537888a8c div.sk-parallel-item:last-child::after {align-self: flex-start;width: 50%;}#sk-73c680ac-03bd-409f-869d-68b537888a8c div.sk-parallel-item:only-child::after {width: 0;}#sk-73c680ac-03bd-409f-869d-68b537888a8c div.sk-dashed-wrapped {border: 1px dashed gray;margin: 0.2em;box-sizing: border-box;padding-bottom: 0.1em;background-color: white;position: relative;}#sk-73c680ac-03bd-409f-869d-68b537888a8c div.sk-label label {font-family: monospace;font-weight: bold;background-color: white;display: inline-block;line-height: 1.2em;}#sk-73c680ac-03bd-409f-869d-68b537888a8c div.sk-label-container {position: relative;z-index: 2;text-align: center;}#sk-73c680ac-03bd-409f-869d-68b537888a8c div.sk-container {display: inline-block;position: relative;}</style><div id=\"sk-73c680ac-03bd-409f-869d-68b537888a8c\" class\"sk-top-container\"><div class=\"sk-container\"><div class=\"sk-item sk-dashed-wrapped\"><div class=\"sk-label-container\"><div class=\"sk-label sk-toggleable\"><input class=\"sk-toggleable__control sk-hidden--visually\" id=\"38f6742b-4f3c-4260-be82-42d5b1a6279d\" type=\"checkbox\" ><label class=\"sk-toggleable__label\" for=\"38f6742b-4f3c-4260-be82-42d5b1a6279d\">Pipeline</label><div class=\"sk-toggleable__content\"><pre>Pipeline(steps=[('Preprocessing',\n",
       "                 ColumnTransformer(transformers=[('scaler', StandardScaler(),\n",
       "                                                  ['Age', 'Fare']),\n",
       "                                                 ('encoder',\n",
       "                                                  OneHotEncoder(sparse=False),\n",
       "                                                  ['Pclass', 'Embarked',\n",
       "                                                   'Title'])])),\n",
       "                ('clf', LogisticRegression())])</pre></div></div></div><div class=\"sk-serial\"><div class=\"sk-item sk-dashed-wrapped\"><div class=\"sk-label-container\"><div class=\"sk-label sk-toggleable\"><input class=\"sk-toggleable__control sk-hidden--visually\" id=\"95f395e0-6021-4c9a-b760-56ba90a9494d\" type=\"checkbox\" ><label class=\"sk-toggleable__label\" for=\"95f395e0-6021-4c9a-b760-56ba90a9494d\">Preprocessing: ColumnTransformer</label><div class=\"sk-toggleable__content\"><pre>ColumnTransformer(transformers=[('scaler', StandardScaler(), ['Age', 'Fare']),\n",
       "                                ('encoder', OneHotEncoder(sparse=False),\n",
       "                                 ['Pclass', 'Embarked', 'Title'])])</pre></div></div></div><div class=\"sk-parallel\"><div class=\"sk-parallel-item\"><div class=\"sk-item\"><div class=\"sk-label-container\"><div class=\"sk-label sk-toggleable\"><input class=\"sk-toggleable__control sk-hidden--visually\" id=\"646e8a7d-950c-4227-a184-7ef668b022ff\" type=\"checkbox\" ><label class=\"sk-toggleable__label\" for=\"646e8a7d-950c-4227-a184-7ef668b022ff\">scaler</label><div class=\"sk-toggleable__content\"><pre>['Age', 'Fare']</pre></div></div></div><div class=\"sk-serial\"><div class=\"sk-item\"><div class=\"sk-estimator sk-toggleable\"><input class=\"sk-toggleable__control sk-hidden--visually\" id=\"0f1fc5fc-1840-4d8a-ac2f-d82432165988\" type=\"checkbox\" ><label class=\"sk-toggleable__label\" for=\"0f1fc5fc-1840-4d8a-ac2f-d82432165988\">StandardScaler</label><div class=\"sk-toggleable__content\"><pre>StandardScaler()</pre></div></div></div></div></div></div><div class=\"sk-parallel-item\"><div class=\"sk-item\"><div class=\"sk-label-container\"><div class=\"sk-label sk-toggleable\"><input class=\"sk-toggleable__control sk-hidden--visually\" id=\"8ae2218f-bdfe-48b8-8cba-8895b321b470\" type=\"checkbox\" ><label class=\"sk-toggleable__label\" for=\"8ae2218f-bdfe-48b8-8cba-8895b321b470\">encoder</label><div class=\"sk-toggleable__content\"><pre>['Pclass', 'Embarked', 'Title']</pre></div></div></div><div class=\"sk-serial\"><div class=\"sk-item\"><div class=\"sk-estimator sk-toggleable\"><input class=\"sk-toggleable__control sk-hidden--visually\" id=\"eef28ad4-1a7d-4439-a42e-4fbb9774c534\" type=\"checkbox\" ><label class=\"sk-toggleable__label\" for=\"eef28ad4-1a7d-4439-a42e-4fbb9774c534\">OneHotEncoder</label><div class=\"sk-toggleable__content\"><pre>OneHotEncoder(sparse=False)</pre></div></div></div></div></div></div></div></div><div class=\"sk-item\"><div class=\"sk-estimator sk-toggleable\"><input class=\"sk-toggleable__control sk-hidden--visually\" id=\"2920b7d9-6b9c-4df1-8180-02c0ff868b4c\" type=\"checkbox\" ><label class=\"sk-toggleable__label\" for=\"2920b7d9-6b9c-4df1-8180-02c0ff868b4c\">LogisticRegression</label><div class=\"sk-toggleable__content\"><pre>LogisticRegression()</pre></div></div></div></div></div></div></div>"
      ],
      "text/plain": [
       "Pipeline(steps=[('Preprocessing',\n",
       "                 ColumnTransformer(transformers=[('scaler', StandardScaler(),\n",
       "                                                  ['Age', 'Fare']),\n",
       "                                                 ('encoder',\n",
       "                                                  OneHotEncoder(sparse=False),\n",
       "                                                  ['Pclass', 'Embarked',\n",
       "                                                   'Title'])])),\n",
       "                ('clf', LogisticRegression())])"
      ]
     },
     "execution_count": 30,
     "metadata": {},
     "output_type": "execute_result"
    }
   ],
   "source": [
    "#Now let us contruct some pipelines of our choice.\n",
    "\n",
    "pipe_lr = Pipeline([                             # Logistic Regression\n",
    "                ('Preprocessing', ct),\n",
    "                ('clf', LogisticRegression())\n",
    "                ])     # Logistic Regression\n",
    "pipe_lr.fit(X_train, y_train)"
   ]
  },
  {
   "cell_type": "code",
   "execution_count": 31,
   "id": "57252021",
   "metadata": {},
   "outputs": [
    {
     "data": {
      "text/html": [
       "<style>#sk-930d3a9e-6af9-49f7-be52-6d02e19a08cb {color: black;background-color: white;}#sk-930d3a9e-6af9-49f7-be52-6d02e19a08cb pre{padding: 0;}#sk-930d3a9e-6af9-49f7-be52-6d02e19a08cb div.sk-toggleable {background-color: white;}#sk-930d3a9e-6af9-49f7-be52-6d02e19a08cb label.sk-toggleable__label {cursor: pointer;display: block;width: 100%;margin-bottom: 0;padding: 0.2em 0.3em;box-sizing: border-box;text-align: center;}#sk-930d3a9e-6af9-49f7-be52-6d02e19a08cb div.sk-toggleable__content {max-height: 0;max-width: 0;overflow: hidden;text-align: left;background-color: #f0f8ff;}#sk-930d3a9e-6af9-49f7-be52-6d02e19a08cb div.sk-toggleable__content pre {margin: 0.2em;color: black;border-radius: 0.25em;background-color: #f0f8ff;}#sk-930d3a9e-6af9-49f7-be52-6d02e19a08cb input.sk-toggleable__control:checked~div.sk-toggleable__content {max-height: 200px;max-width: 100%;overflow: auto;}#sk-930d3a9e-6af9-49f7-be52-6d02e19a08cb div.sk-estimator input.sk-toggleable__control:checked~label.sk-toggleable__label {background-color: #d4ebff;}#sk-930d3a9e-6af9-49f7-be52-6d02e19a08cb div.sk-label input.sk-toggleable__control:checked~label.sk-toggleable__label {background-color: #d4ebff;}#sk-930d3a9e-6af9-49f7-be52-6d02e19a08cb input.sk-hidden--visually {border: 0;clip: rect(1px 1px 1px 1px);clip: rect(1px, 1px, 1px, 1px);height: 1px;margin: -1px;overflow: hidden;padding: 0;position: absolute;width: 1px;}#sk-930d3a9e-6af9-49f7-be52-6d02e19a08cb div.sk-estimator {font-family: monospace;background-color: #f0f8ff;margin: 0.25em 0.25em;border: 1px dotted black;border-radius: 0.25em;box-sizing: border-box;}#sk-930d3a9e-6af9-49f7-be52-6d02e19a08cb div.sk-estimator:hover {background-color: #d4ebff;}#sk-930d3a9e-6af9-49f7-be52-6d02e19a08cb div.sk-parallel-item::after {content: \"\";width: 100%;border-bottom: 1px solid gray;flex-grow: 1;}#sk-930d3a9e-6af9-49f7-be52-6d02e19a08cb div.sk-label:hover label.sk-toggleable__label {background-color: #d4ebff;}#sk-930d3a9e-6af9-49f7-be52-6d02e19a08cb div.sk-serial::before {content: \"\";position: absolute;border-left: 1px solid gray;box-sizing: border-box;top: 2em;bottom: 0;left: 50%;}#sk-930d3a9e-6af9-49f7-be52-6d02e19a08cb div.sk-serial {display: flex;flex-direction: column;align-items: center;background-color: white;}#sk-930d3a9e-6af9-49f7-be52-6d02e19a08cb div.sk-item {z-index: 1;}#sk-930d3a9e-6af9-49f7-be52-6d02e19a08cb div.sk-parallel {display: flex;align-items: stretch;justify-content: center;background-color: white;}#sk-930d3a9e-6af9-49f7-be52-6d02e19a08cb div.sk-parallel-item {display: flex;flex-direction: column;position: relative;background-color: white;}#sk-930d3a9e-6af9-49f7-be52-6d02e19a08cb div.sk-parallel-item:first-child::after {align-self: flex-end;width: 50%;}#sk-930d3a9e-6af9-49f7-be52-6d02e19a08cb div.sk-parallel-item:last-child::after {align-self: flex-start;width: 50%;}#sk-930d3a9e-6af9-49f7-be52-6d02e19a08cb div.sk-parallel-item:only-child::after {width: 0;}#sk-930d3a9e-6af9-49f7-be52-6d02e19a08cb div.sk-dashed-wrapped {border: 1px dashed gray;margin: 0.2em;box-sizing: border-box;padding-bottom: 0.1em;background-color: white;position: relative;}#sk-930d3a9e-6af9-49f7-be52-6d02e19a08cb div.sk-label label {font-family: monospace;font-weight: bold;background-color: white;display: inline-block;line-height: 1.2em;}#sk-930d3a9e-6af9-49f7-be52-6d02e19a08cb div.sk-label-container {position: relative;z-index: 2;text-align: center;}#sk-930d3a9e-6af9-49f7-be52-6d02e19a08cb div.sk-container {display: inline-block;position: relative;}</style><div id=\"sk-930d3a9e-6af9-49f7-be52-6d02e19a08cb\" class\"sk-top-container\"><div class=\"sk-container\"><div class=\"sk-item sk-dashed-wrapped\"><div class=\"sk-label-container\"><div class=\"sk-label sk-toggleable\"><input class=\"sk-toggleable__control sk-hidden--visually\" id=\"56009cab-f05f-413d-bda8-e345885fdb68\" type=\"checkbox\" ><label class=\"sk-toggleable__label\" for=\"56009cab-f05f-413d-bda8-e345885fdb68\">Pipeline</label><div class=\"sk-toggleable__content\"><pre>Pipeline(steps=[('Preprocessing',\n",
       "                 ColumnTransformer(transformers=[('scaler', StandardScaler(),\n",
       "                                                  ['Age', 'Fare']),\n",
       "                                                 ('encoder',\n",
       "                                                  OneHotEncoder(sparse=False),\n",
       "                                                  ['Pclass', 'Embarked',\n",
       "                                                   'Title'])])),\n",
       "                ('clf', RandomForestClassifier())])</pre></div></div></div><div class=\"sk-serial\"><div class=\"sk-item sk-dashed-wrapped\"><div class=\"sk-label-container\"><div class=\"sk-label sk-toggleable\"><input class=\"sk-toggleable__control sk-hidden--visually\" id=\"5d4de110-ca72-403b-b99e-49ee65a7f6cb\" type=\"checkbox\" ><label class=\"sk-toggleable__label\" for=\"5d4de110-ca72-403b-b99e-49ee65a7f6cb\">Preprocessing: ColumnTransformer</label><div class=\"sk-toggleable__content\"><pre>ColumnTransformer(transformers=[('scaler', StandardScaler(), ['Age', 'Fare']),\n",
       "                                ('encoder', OneHotEncoder(sparse=False),\n",
       "                                 ['Pclass', 'Embarked', 'Title'])])</pre></div></div></div><div class=\"sk-parallel\"><div class=\"sk-parallel-item\"><div class=\"sk-item\"><div class=\"sk-label-container\"><div class=\"sk-label sk-toggleable\"><input class=\"sk-toggleable__control sk-hidden--visually\" id=\"17e7511d-2e66-49ef-b2ad-4035ad1e4f28\" type=\"checkbox\" ><label class=\"sk-toggleable__label\" for=\"17e7511d-2e66-49ef-b2ad-4035ad1e4f28\">scaler</label><div class=\"sk-toggleable__content\"><pre>['Age', 'Fare']</pre></div></div></div><div class=\"sk-serial\"><div class=\"sk-item\"><div class=\"sk-estimator sk-toggleable\"><input class=\"sk-toggleable__control sk-hidden--visually\" id=\"ecde9288-64c6-4718-b0b0-a75dbe2cc918\" type=\"checkbox\" ><label class=\"sk-toggleable__label\" for=\"ecde9288-64c6-4718-b0b0-a75dbe2cc918\">StandardScaler</label><div class=\"sk-toggleable__content\"><pre>StandardScaler()</pre></div></div></div></div></div></div><div class=\"sk-parallel-item\"><div class=\"sk-item\"><div class=\"sk-label-container\"><div class=\"sk-label sk-toggleable\"><input class=\"sk-toggleable__control sk-hidden--visually\" id=\"948b3892-a3be-4847-b3ab-faf12d69ec7e\" type=\"checkbox\" ><label class=\"sk-toggleable__label\" for=\"948b3892-a3be-4847-b3ab-faf12d69ec7e\">encoder</label><div class=\"sk-toggleable__content\"><pre>['Pclass', 'Embarked', 'Title']</pre></div></div></div><div class=\"sk-serial\"><div class=\"sk-item\"><div class=\"sk-estimator sk-toggleable\"><input class=\"sk-toggleable__control sk-hidden--visually\" id=\"d1f041e7-b18b-427b-924b-c41cd39b1330\" type=\"checkbox\" ><label class=\"sk-toggleable__label\" for=\"d1f041e7-b18b-427b-924b-c41cd39b1330\">OneHotEncoder</label><div class=\"sk-toggleable__content\"><pre>OneHotEncoder(sparse=False)</pre></div></div></div></div></div></div></div></div><div class=\"sk-item\"><div class=\"sk-estimator sk-toggleable\"><input class=\"sk-toggleable__control sk-hidden--visually\" id=\"eb20575e-2f4f-4a40-ba31-71eda55291d5\" type=\"checkbox\" ><label class=\"sk-toggleable__label\" for=\"eb20575e-2f4f-4a40-ba31-71eda55291d5\">RandomForestClassifier</label><div class=\"sk-toggleable__content\"><pre>RandomForestClassifier()</pre></div></div></div></div></div></div></div>"
      ],
      "text/plain": [
       "Pipeline(steps=[('Preprocessing',\n",
       "                 ColumnTransformer(transformers=[('scaler', StandardScaler(),\n",
       "                                                  ['Age', 'Fare']),\n",
       "                                                 ('encoder',\n",
       "                                                  OneHotEncoder(sparse=False),\n",
       "                                                  ['Pclass', 'Embarked',\n",
       "                                                   'Title'])])),\n",
       "                ('clf', RandomForestClassifier())])"
      ]
     },
     "execution_count": 31,
     "metadata": {},
     "output_type": "execute_result"
    }
   ],
   "source": [
    "pipe_rf = Pipeline([                               # RandomForest Classifier\n",
    "            ('Preprocessing', ct),\n",
    "            ('clf', RandomForestClassifier())])   \n",
    "pipe_rf.fit(X_train, y_train)"
   ]
  },
  {
   "cell_type": "code",
   "execution_count": 32,
   "id": "ae8f7322",
   "metadata": {},
   "outputs": [
    {
     "data": {
      "text/html": [
       "<style>#sk-68daf379-24b0-46d6-8476-95a90d72fad5 {color: black;background-color: white;}#sk-68daf379-24b0-46d6-8476-95a90d72fad5 pre{padding: 0;}#sk-68daf379-24b0-46d6-8476-95a90d72fad5 div.sk-toggleable {background-color: white;}#sk-68daf379-24b0-46d6-8476-95a90d72fad5 label.sk-toggleable__label {cursor: pointer;display: block;width: 100%;margin-bottom: 0;padding: 0.2em 0.3em;box-sizing: border-box;text-align: center;}#sk-68daf379-24b0-46d6-8476-95a90d72fad5 div.sk-toggleable__content {max-height: 0;max-width: 0;overflow: hidden;text-align: left;background-color: #f0f8ff;}#sk-68daf379-24b0-46d6-8476-95a90d72fad5 div.sk-toggleable__content pre {margin: 0.2em;color: black;border-radius: 0.25em;background-color: #f0f8ff;}#sk-68daf379-24b0-46d6-8476-95a90d72fad5 input.sk-toggleable__control:checked~div.sk-toggleable__content {max-height: 200px;max-width: 100%;overflow: auto;}#sk-68daf379-24b0-46d6-8476-95a90d72fad5 div.sk-estimator input.sk-toggleable__control:checked~label.sk-toggleable__label {background-color: #d4ebff;}#sk-68daf379-24b0-46d6-8476-95a90d72fad5 div.sk-label input.sk-toggleable__control:checked~label.sk-toggleable__label {background-color: #d4ebff;}#sk-68daf379-24b0-46d6-8476-95a90d72fad5 input.sk-hidden--visually {border: 0;clip: rect(1px 1px 1px 1px);clip: rect(1px, 1px, 1px, 1px);height: 1px;margin: -1px;overflow: hidden;padding: 0;position: absolute;width: 1px;}#sk-68daf379-24b0-46d6-8476-95a90d72fad5 div.sk-estimator {font-family: monospace;background-color: #f0f8ff;margin: 0.25em 0.25em;border: 1px dotted black;border-radius: 0.25em;box-sizing: border-box;}#sk-68daf379-24b0-46d6-8476-95a90d72fad5 div.sk-estimator:hover {background-color: #d4ebff;}#sk-68daf379-24b0-46d6-8476-95a90d72fad5 div.sk-parallel-item::after {content: \"\";width: 100%;border-bottom: 1px solid gray;flex-grow: 1;}#sk-68daf379-24b0-46d6-8476-95a90d72fad5 div.sk-label:hover label.sk-toggleable__label {background-color: #d4ebff;}#sk-68daf379-24b0-46d6-8476-95a90d72fad5 div.sk-serial::before {content: \"\";position: absolute;border-left: 1px solid gray;box-sizing: border-box;top: 2em;bottom: 0;left: 50%;}#sk-68daf379-24b0-46d6-8476-95a90d72fad5 div.sk-serial {display: flex;flex-direction: column;align-items: center;background-color: white;}#sk-68daf379-24b0-46d6-8476-95a90d72fad5 div.sk-item {z-index: 1;}#sk-68daf379-24b0-46d6-8476-95a90d72fad5 div.sk-parallel {display: flex;align-items: stretch;justify-content: center;background-color: white;}#sk-68daf379-24b0-46d6-8476-95a90d72fad5 div.sk-parallel-item {display: flex;flex-direction: column;position: relative;background-color: white;}#sk-68daf379-24b0-46d6-8476-95a90d72fad5 div.sk-parallel-item:first-child::after {align-self: flex-end;width: 50%;}#sk-68daf379-24b0-46d6-8476-95a90d72fad5 div.sk-parallel-item:last-child::after {align-self: flex-start;width: 50%;}#sk-68daf379-24b0-46d6-8476-95a90d72fad5 div.sk-parallel-item:only-child::after {width: 0;}#sk-68daf379-24b0-46d6-8476-95a90d72fad5 div.sk-dashed-wrapped {border: 1px dashed gray;margin: 0.2em;box-sizing: border-box;padding-bottom: 0.1em;background-color: white;position: relative;}#sk-68daf379-24b0-46d6-8476-95a90d72fad5 div.sk-label label {font-family: monospace;font-weight: bold;background-color: white;display: inline-block;line-height: 1.2em;}#sk-68daf379-24b0-46d6-8476-95a90d72fad5 div.sk-label-container {position: relative;z-index: 2;text-align: center;}#sk-68daf379-24b0-46d6-8476-95a90d72fad5 div.sk-container {display: inline-block;position: relative;}</style><div id=\"sk-68daf379-24b0-46d6-8476-95a90d72fad5\" class\"sk-top-container\"><div class=\"sk-container\"><div class=\"sk-item sk-dashed-wrapped\"><div class=\"sk-label-container\"><div class=\"sk-label sk-toggleable\"><input class=\"sk-toggleable__control sk-hidden--visually\" id=\"4f6aa8ed-2512-42e7-a339-654bad46d022\" type=\"checkbox\" ><label class=\"sk-toggleable__label\" for=\"4f6aa8ed-2512-42e7-a339-654bad46d022\">Pipeline</label><div class=\"sk-toggleable__content\"><pre>Pipeline(steps=[('Preprocessing',\n",
       "                 ColumnTransformer(transformers=[('scaler', StandardScaler(),\n",
       "                                                  ['Age', 'Fare']),\n",
       "                                                 ('encoder',\n",
       "                                                  OneHotEncoder(sparse=False),\n",
       "                                                  ['Pclass', 'Embarked',\n",
       "                                                   'Title'])])),\n",
       "                ('clf', SVC())])</pre></div></div></div><div class=\"sk-serial\"><div class=\"sk-item sk-dashed-wrapped\"><div class=\"sk-label-container\"><div class=\"sk-label sk-toggleable\"><input class=\"sk-toggleable__control sk-hidden--visually\" id=\"6443bb35-d8b5-4049-9861-c431cd829003\" type=\"checkbox\" ><label class=\"sk-toggleable__label\" for=\"6443bb35-d8b5-4049-9861-c431cd829003\">Preprocessing: ColumnTransformer</label><div class=\"sk-toggleable__content\"><pre>ColumnTransformer(transformers=[('scaler', StandardScaler(), ['Age', 'Fare']),\n",
       "                                ('encoder', OneHotEncoder(sparse=False),\n",
       "                                 ['Pclass', 'Embarked', 'Title'])])</pre></div></div></div><div class=\"sk-parallel\"><div class=\"sk-parallel-item\"><div class=\"sk-item\"><div class=\"sk-label-container\"><div class=\"sk-label sk-toggleable\"><input class=\"sk-toggleable__control sk-hidden--visually\" id=\"5d5ffec0-56a3-477c-b309-59bce54071f5\" type=\"checkbox\" ><label class=\"sk-toggleable__label\" for=\"5d5ffec0-56a3-477c-b309-59bce54071f5\">scaler</label><div class=\"sk-toggleable__content\"><pre>['Age', 'Fare']</pre></div></div></div><div class=\"sk-serial\"><div class=\"sk-item\"><div class=\"sk-estimator sk-toggleable\"><input class=\"sk-toggleable__control sk-hidden--visually\" id=\"50cfaddf-54fa-43b2-a1b1-1cf876b30080\" type=\"checkbox\" ><label class=\"sk-toggleable__label\" for=\"50cfaddf-54fa-43b2-a1b1-1cf876b30080\">StandardScaler</label><div class=\"sk-toggleable__content\"><pre>StandardScaler()</pre></div></div></div></div></div></div><div class=\"sk-parallel-item\"><div class=\"sk-item\"><div class=\"sk-label-container\"><div class=\"sk-label sk-toggleable\"><input class=\"sk-toggleable__control sk-hidden--visually\" id=\"472cb049-1fd3-4bd8-bd7d-9557cb6a62e2\" type=\"checkbox\" ><label class=\"sk-toggleable__label\" for=\"472cb049-1fd3-4bd8-bd7d-9557cb6a62e2\">encoder</label><div class=\"sk-toggleable__content\"><pre>['Pclass', 'Embarked', 'Title']</pre></div></div></div><div class=\"sk-serial\"><div class=\"sk-item\"><div class=\"sk-estimator sk-toggleable\"><input class=\"sk-toggleable__control sk-hidden--visually\" id=\"ee7283f5-7256-4bbc-8f22-5a4b9483559d\" type=\"checkbox\" ><label class=\"sk-toggleable__label\" for=\"ee7283f5-7256-4bbc-8f22-5a4b9483559d\">OneHotEncoder</label><div class=\"sk-toggleable__content\"><pre>OneHotEncoder(sparse=False)</pre></div></div></div></div></div></div></div></div><div class=\"sk-item\"><div class=\"sk-estimator sk-toggleable\"><input class=\"sk-toggleable__control sk-hidden--visually\" id=\"c783ad8d-5a82-4945-bfde-df2c826063e8\" type=\"checkbox\" ><label class=\"sk-toggleable__label\" for=\"c783ad8d-5a82-4945-bfde-df2c826063e8\">SVC</label><div class=\"sk-toggleable__content\"><pre>SVC()</pre></div></div></div></div></div></div></div>"
      ],
      "text/plain": [
       "Pipeline(steps=[('Preprocessing',\n",
       "                 ColumnTransformer(transformers=[('scaler', StandardScaler(),\n",
       "                                                  ['Age', 'Fare']),\n",
       "                                                 ('encoder',\n",
       "                                                  OneHotEncoder(sparse=False),\n",
       "                                                  ['Pclass', 'Embarked',\n",
       "                                                   'Title'])])),\n",
       "                ('clf', SVC())])"
      ]
     },
     "execution_count": 32,
     "metadata": {},
     "output_type": "execute_result"
    }
   ],
   "source": [
    "pipe_svm = Pipeline([                              # SVM Class\n",
    "            ('Preprocessing', ct),\n",
    "            ('clf', svm.SVC())])                  \n",
    "pipe_svm.fit(X_train, y_train)"
   ]
  },
  {
   "cell_type": "markdown",
   "id": "cd184d50",
   "metadata": {},
   "source": [
    "### Hyperparameter tuning"
   ]
  },
  {
   "cell_type": "code",
   "execution_count": 33,
   "id": "4dce81b7",
   "metadata": {
    "scrolled": false
   },
   "outputs": [
    {
     "name": "stdout",
     "output_type": "stream",
     "text": [
      "Performing model optimizations...\n",
      "\n",
      "Estimator: Logistic Regression\n",
      "Best params are : {'Preprocessing__scaler': PowerTransformer(), 'clf__C': 1.0, 'clf__penalty': 'l2', 'clf__solver': 'liblinear'}\n",
      "Best training accuracy: 0.802\n",
      "Test set accuracy score for best params: 0.810 \n",
      "\n",
      "Estimator: Random Forest\n",
      "Best params are : {'Preprocessing__scaler': PowerTransformer(), 'clf__criterion': 'entropy', 'clf__max_depth': 9, 'clf__min_samples_split': 20}\n",
      "Best training accuracy: 0.829\n",
      "Test set accuracy score for best params: 0.838 \n",
      "\n",
      "Estimator: Support Vector Machine\n",
      "Best params are : {'Preprocessing__scaler': PowerTransformer(), 'clf__C': 1, 'clf__kernel': 'rbf'}\n",
      "Best training accuracy: 0.817\n",
      "Test set accuracy score for best params: 0.838 \n",
      "\n",
      "Classifier with best test set accuracy: Random Forest\n"
     ]
    }
   ],
   "source": [
    "# Set grid search params\n",
    "param_range = [9, 10]\n",
    "param_range_fl = [1.0, 0.5]\n",
    "\n",
    "grid_params_lr = [{\n",
    "                    'Preprocessing__scaler': [StandardScaler(), PowerTransformer()],\n",
    "                    'clf__penalty': ['l1', 'l2'],\n",
    "                    'clf__C': param_range_fl,\n",
    "                    'clf__solver': ['liblinear']}] \n",
    "\n",
    "\n",
    "grid_params_rf = [{\n",
    "                    'Preprocessing__scaler': [StandardScaler(), PowerTransformer()],\n",
    "                    'clf__criterion': ['gini', 'entropy'],\n",
    "                    'clf__max_depth': [5,7,9],\n",
    "                    'clf__min_samples_split': [10,20]}]\n",
    "\n",
    "grid_params_svm = [{\n",
    "                    'Preprocessing__scaler': [StandardScaler(), PowerTransformer()],\n",
    "                    'clf__kernel': ['linear', 'rbf'], \n",
    "                    'clf__C': range(1,10)}]\n",
    "\n",
    "# Construct grid searches\n",
    "jobs = -1\n",
    "\n",
    "LR = GridSearchCV(estimator=pipe_lr,\n",
    "                  param_grid=grid_params_lr,\n",
    "                  scoring='accuracy',\n",
    "                  cv=10) \n",
    "\n",
    "\n",
    "\n",
    "RF = GridSearchCV(estimator=pipe_rf,\n",
    "                  param_grid=grid_params_rf,\n",
    "                  scoring='accuracy',\n",
    "                  cv=10, \n",
    "                  n_jobs=jobs)\n",
    "\n",
    "\n",
    "SVM = GridSearchCV(estimator=pipe_svm,\n",
    "                   param_grid=grid_params_svm,\n",
    "                   scoring='accuracy',\n",
    "                   cv=10,\n",
    "                   n_jobs=jobs)\n",
    "\n",
    "\n",
    "\n",
    "# List of pipelines for iterating through each of them\n",
    "grids = [LR,RF,SVM]\n",
    "\n",
    "# Creating a dict for our reference\n",
    "grid_dict = {\n",
    "                0: 'Logistic Regression', \n",
    "                1: 'Random Forest',\n",
    "                2: 'Support Vector Machine'\n",
    "            }\n",
    "\n",
    "# Fit the grid search objects\n",
    "print('Performing model optimizations...')\n",
    "best_acc = 0.0\n",
    "best_clf = 0\n",
    "best_gs = ''\n",
    "for idx, gs in enumerate(grids):\n",
    "    print('\\nEstimator: %s' % grid_dict[idx])\n",
    "    gs.fit(X_train, y_train)\n",
    "    print('Best params are : %s' % gs.best_params_)\n",
    "    # Best training data accuracy\n",
    "    print('Best training accuracy: %.3f' % gs.best_score_)\n",
    "    # Predict on test data with best params\n",
    "    y_pred = gs.predict(X_test)\n",
    "    # Test data accuracy of model with best params\n",
    "    print('Test set accuracy score for best params: %.3f ' % accuracy_score(y_test, y_pred))\n",
    "#     print(classification_report(y_pred, y_test))\n",
    "#     print(confusion_matrix(y_pred, y_test))\n",
    "#     print('------------------------------------------------------------------------------------------------')\n",
    "    # Track best (highest test accuracy) model\n",
    "    if accuracy_score(y_test, y_pred) > best_acc:\n",
    "        best_acc = accuracy_score(y_test, y_pred)\n",
    "        best_gs = gs\n",
    "        best_clf = idx\n",
    "print('\\nClassifier with best test set accuracy: %s' % grid_dict[best_clf])"
   ]
  },
  {
   "cell_type": "markdown",
   "id": "2d45c897",
   "metadata": {},
   "source": [
    "### Final Model"
   ]
  },
  {
   "cell_type": "code",
   "execution_count": 34,
   "id": "e9018cac",
   "metadata": {},
   "outputs": [
    {
     "name": "stdout",
     "output_type": "stream",
     "text": [
      "\n",
      "Saved Random Forest grid search pipeline to file: model.pkl\n"
     ]
    }
   ],
   "source": [
    "# Save best grid search pipeline to file\n",
    "import joblib\n",
    "dump_file = 'model.pkl'\n",
    "joblib.dump(best_gs, dump_file, compress=1)\n",
    "print('\\nSaved %s grid search pipeline to file: %s' % (grid_dict[best_clf], dump_file))"
   ]
  },
  {
   "cell_type": "code",
   "execution_count": 36,
   "id": "fb873554",
   "metadata": {},
   "outputs": [
    {
     "data": {
      "text/html": [
       "<div>\n",
       "<style scoped>\n",
       "    .dataframe tbody tr th:only-of-type {\n",
       "        vertical-align: middle;\n",
       "    }\n",
       "\n",
       "    .dataframe tbody tr th {\n",
       "        vertical-align: top;\n",
       "    }\n",
       "\n",
       "    .dataframe thead th {\n",
       "        text-align: right;\n",
       "    }\n",
       "</style>\n",
       "<table border=\"1\" class=\"dataframe\">\n",
       "  <thead>\n",
       "    <tr style=\"text-align: right;\">\n",
       "      <th></th>\n",
       "      <th>Survived</th>\n",
       "    </tr>\n",
       "  </thead>\n",
       "  <tbody>\n",
       "    <tr>\n",
       "      <th>0</th>\n",
       "      <td>0.0</td>\n",
       "    </tr>\n",
       "    <tr>\n",
       "      <th>1</th>\n",
       "      <td>0.0</td>\n",
       "    </tr>\n",
       "    <tr>\n",
       "      <th>2</th>\n",
       "      <td>0.0</td>\n",
       "    </tr>\n",
       "    <tr>\n",
       "      <th>3</th>\n",
       "      <td>0.0</td>\n",
       "    </tr>\n",
       "    <tr>\n",
       "      <th>4</th>\n",
       "      <td>1.0</td>\n",
       "    </tr>\n",
       "  </tbody>\n",
       "</table>\n",
       "</div>"
      ],
      "text/plain": [
       "   Survived\n",
       "0       0.0\n",
       "1       0.0\n",
       "2       0.0\n",
       "3       0.0\n",
       "4       1.0"
      ]
     },
     "execution_count": 36,
     "metadata": {},
     "output_type": "execute_result"
    }
   ],
   "source": [
    "#Loading the saved model with joblib\n",
    "model = joblib.load('model.pkl')\n",
    "\n",
    "# New data to predict\n",
    "pred_cols = list(test.columns.values)[1:]\n",
    "\n",
    "# apply the whole pipeline to data\n",
    "pred = pd.DataFrame({'Survived' : model.predict(test[pred_cols])})\n",
    "pred.head()"
   ]
  },
  {
   "cell_type": "code",
   "execution_count": 37,
   "id": "5e0857c0",
   "metadata": {},
   "outputs": [
    {
     "data": {
      "text/html": [
       "<div>\n",
       "<style scoped>\n",
       "    .dataframe tbody tr th:only-of-type {\n",
       "        vertical-align: middle;\n",
       "    }\n",
       "\n",
       "    .dataframe tbody tr th {\n",
       "        vertical-align: top;\n",
       "    }\n",
       "\n",
       "    .dataframe thead th {\n",
       "        text-align: right;\n",
       "    }\n",
       "</style>\n",
       "<table border=\"1\" class=\"dataframe\">\n",
       "  <thead>\n",
       "    <tr style=\"text-align: right;\">\n",
       "      <th></th>\n",
       "      <th>PassengerId</th>\n",
       "      <th>Survived</th>\n",
       "    </tr>\n",
       "  </thead>\n",
       "  <tbody>\n",
       "    <tr>\n",
       "      <th>0</th>\n",
       "      <td>892</td>\n",
       "      <td>0</td>\n",
       "    </tr>\n",
       "    <tr>\n",
       "      <th>1</th>\n",
       "      <td>893</td>\n",
       "      <td>0</td>\n",
       "    </tr>\n",
       "    <tr>\n",
       "      <th>2</th>\n",
       "      <td>894</td>\n",
       "      <td>0</td>\n",
       "    </tr>\n",
       "    <tr>\n",
       "      <th>3</th>\n",
       "      <td>895</td>\n",
       "      <td>0</td>\n",
       "    </tr>\n",
       "    <tr>\n",
       "      <th>4</th>\n",
       "      <td>896</td>\n",
       "      <td>1</td>\n",
       "    </tr>\n",
       "  </tbody>\n",
       "</table>\n",
       "</div>"
      ],
      "text/plain": [
       "   PassengerId Survived\n",
       "0          892        0\n",
       "1          893        0\n",
       "2          894        0\n",
       "3          895        0\n",
       "4          896        1"
      ]
     },
     "metadata": {},
     "output_type": "display_data"
    },
    {
     "name": "stdout",
     "output_type": "stream",
     "text": [
      "<class 'pandas.core.frame.DataFrame'>\n",
      "RangeIndex: 418 entries, 0 to 417\n",
      "Data columns (total 2 columns):\n",
      " #   Column       Non-Null Count  Dtype \n",
      "---  ------       --------------  ----- \n",
      " 0   PassengerId  418 non-null    int64 \n",
      " 1   Survived     418 non-null    object\n",
      "dtypes: int64(1), object(1)\n",
      "memory usage: 6.7+ KB\n"
     ]
    }
   ],
   "source": [
    "# Prediction file\n",
    "pred_df = pd.concat([submit['PassengerId'], pred], axis=1)\n",
    "pred_df['Survived'] = pred_df['Survived'].apply(lambda x: str(int(x)))\n",
    "\n",
    "display(pred_df.head())\n",
    "pred_df.info()"
   ]
  }
 ],
 "metadata": {
  "kernelspec": {
   "display_name": "Python 3 (ipykernel)",
   "language": "python",
   "name": "python3"
  },
  "language_info": {
   "codemirror_mode": {
    "name": "ipython",
    "version": 3
   },
   "file_extension": ".py",
   "mimetype": "text/x-python",
   "name": "python",
   "nbconvert_exporter": "python",
   "pygments_lexer": "ipython3",
   "version": "3.8.11"
  }
 },
 "nbformat": 4,
 "nbformat_minor": 5
}
